{
 "cells": [
  {
   "cell_type": "markdown",
   "metadata": {},
   "source": [
    "Here we demonstrate a simplistic python code for market basket analysis. In particular we are not getting involved in finding all the frequent itemsets (i.e using the apriori algorithm), rather we assume a given association rule and find the *support*, *confidence* and *lift* of that rule.\n",
    "\n",
    "Assume a simple rule IF {A} THEN {B}. The support of this rule is the number of baskets (or transactions) that include items in {A} and {B} as a percentage of the total number of transactions.The confidence of this rule is the ratio of the number of baskets that include {A} and {B} to those that include {A}. To calculate lift we divide the confidence by the ratio of the number of baskets that include {B} to the total number of baskets.\n",
    "\n",
    "\n",
    "### Data Requirements\n",
    "The analysis expects an input file with 2 data columns:\n",
    "1. The basket id\n",
    "2. The product id.\n",
    "\n",
    "The first line is assumed to be a header line (i.e something like basket,product).\n",
    "\n",
    "\n",
    "### Association Rule\n",
    "The association rule is given in this format: \n",
    "L1,L2,... -> R1,R2,R3,...\n",
    ", where both left and right hand sides are product ids."
   ]
  },
  {
   "cell_type": "code",
   "execution_count": 31,
   "metadata": {},
   "outputs": [],
   "source": [
    "# make all of our imports here\n",
    "import csv\n",
    "from functools import reduce\n",
    "from collections import defaultdict\n",
    "from toolz.dicttoolz import valfilter"
   ]
  },
  {
   "cell_type": "code",
   "execution_count": 32,
   "metadata": {},
   "outputs": [],
   "source": [
    "def accumulateBasketData(acc, nxt):\n",
    "    \"\"\"\n",
    "    acc: A dictionary of basket ids to sets of products.\n",
    "    next: Line of input from csv file [basket-id,product-id]\n",
    "    \n",
    "    The method adds the next pair to the dictionary and returns it.\n",
    "    \"\"\"\n",
    "    contents = nxt\n",
    "    \n",
    "    if len(contents) != 2:\n",
    "        raise ValueError(r'Input line not in format \"basket-id,product-id\"')\n",
    "        \n",
    "    basket_id = contents[0]\n",
    "    product_id = contents[1]\n",
    "    \n",
    "    acc[basket_id].add(product_id)\n",
    "    \n",
    "    return acc\n",
    "    \n",
    "def loadBasketData(filename):\n",
    "    \"\"\"\n",
    "    Read a file containing lines with (basket-id,product-id) information and returns a dictionary of sets, where each inner set\n",
    "    represents the products of one bakset.\n",
    "    Example input file:\n",
    "    basket,product\n",
    "    1,A\n",
    "    1,B\n",
    "    2,B\n",
    "    2,D\n",
    "    3,E\n",
    "    \n",
    "    Output: {1:(A,B), 2:(B,D), 3:(E)}\n",
    "    \"\"\"\n",
    "    with open(filename, encoding='utf-8') as fp:\n",
    "        reader = csv.reader(fp)\n",
    "        \n",
    "        # skip the header line!\n",
    "        next(reader)\n",
    "        \n",
    "        return reduce(accumulateBasketData, reader, defaultdict(set))\n",
    "            "
   ]
  },
  {
   "cell_type": "code",
   "execution_count": 33,
   "metadata": {},
   "outputs": [],
   "source": [
    "def parseAssociationRule(rule):\n",
    "    \"\"\"\n",
    "    Given rule: L1,L2,L3,... -> R1,R2,R3...\n",
    "    return a pair of the antecedent (the products L1,L2, ...) as a set and the consequent (the products R1,R2,...) as a set\n",
    "    \"\"\"\n",
    "    ruleSides = rule.split(\"->\")\n",
    "    \n",
    "    antecedent = ruleSides[0]\n",
    "    consequent = ruleSides[1]\n",
    "    \n",
    "    return set(antecedent.replace(\" \", \"\").split(\",\")), set(consequent.replace(\" \", \"\").split(\",\"))"
   ]
  },
  {
   "cell_type": "code",
   "execution_count": 34,
   "metadata": {},
   "outputs": [],
   "source": [
    "class BasketAccumulator:\n",
    "    def __init__(self, antecedent, consequent):\n",
    "        self.antecedent = antecedent\n",
    "        self.consequent = consequent\n",
    "        \n",
    "    def accumulate(self, acc, nextBasket):\n",
    "        \"\"\"\n",
    "        Input: acc is a dictionary that contains the counts of (1) antecedent only, (2) consequent only and (3)\n",
    "        both antecedent and conseuent.\n",
    "        nextBasket is the next basket and we update the current counts accordingly.\n",
    "        \"\"\"\n",
    "        antecedentIsSubset = self.antecedent.issubset(nextBasket)\n",
    "        consequentIsSubset = self.consequent.issubset(nextBasket)\n",
    "        \n",
    "        acc[\"antecedent\"] = acc.get(\"antecedent\", 0) + int(antecedentIsSubset)\n",
    "        acc[\"consequent\"] = acc.get(\"consequent\", 0) + int(consequentIsSubset)\n",
    "        acc[\"antecedent&consequent\"] = acc.get(\"antecedent&consequent\", 0) + int(antecedentIsSubset and consequentIsSubset)\n",
    "        \n",
    "        return acc"
   ]
  },
  {
   "cell_type": "code",
   "execution_count": 39,
   "metadata": {},
   "outputs": [],
   "source": [
    "def support(basketRuleCounts, basketsCount):\n",
    "    return float(basketRuleCounts.get(\"antecedent&consequent\", 0))/float(basketsCount)\n",
    "\n",
    "def confidence(basketRuleCounts):\n",
    "    return float(basketRuleCounts.get(\"antecedent&consequent\", 0))/float(basketRuleCounts.get(\"antecedent\", 0.000001))\n",
    "\n",
    "def lift(basketRuleCounts, basketsCount, conf):\n",
    "    consequentSupport = float(basketRuleCounts.get(\"consequent\", 0))/float(basketsCount)\n",
    "    return conf/min(consequentSupport, 0.000001)"
   ]
  },
  {
   "cell_type": "code",
   "execution_count": 40,
   "metadata": {},
   "outputs": [],
   "source": [
    "def associationRuleMarketBasketAnalysis(basketDataFilename, associationRule):\n",
    "    basketData = loadBasketData(basketDataFilename)\n",
    "    antecedent, consequent = parseAssociationRule(associationRule)\n",
    "    \n",
    "    basketsCount = len(basketData)\n",
    "    \n",
    "    # When assessing rule A -> B we need to account at least only for those baskets that include all of A\n",
    "    # or all of B\n",
    "    filteredBasketData = valfilter(lambda basketProductSet : antecedent.issubset(basketProductSet) \n",
    "                             or consequent.issubset(basketProductSet), basketData)\n",
    "    \n",
    "    # We will count the number of baskets in which the following appear: antecedent only, consequent only, both antecedent and consequent\n",
    "    basketAccumulator = BasketAccumulator(antecedent, consequent)\n",
    "    \n",
    "    counts = reduce(basketAccumulator.accumulate, filteredBasketData.values(), {})\n",
    "    \n",
    "    metrics = dict()\n",
    "    \n",
    "    metrics[\"support\"] = support(counts, basketsCount)\n",
    "    metrics[\"confidence\"] = confidence(counts)\n",
    "    metrics[\"lift\"] = lift(counts, basketsCount, metrics[\"confidence\"])\n",
    "    \n",
    "    return metrics"
   ]
  },
  {
   "cell_type": "code",
   "execution_count": 41,
   "metadata": {},
   "outputs": [],
   "source": [
    "metrics = associationRuleMarketBasketAnalysis(\"basket_data.csv\", \"A -> B\")"
   ]
  },
  {
   "cell_type": "code",
   "execution_count": 42,
   "metadata": {},
   "outputs": [
    {
     "name": "stdout",
     "output_type": "stream",
     "text": [
      "{'support': 0.6666666666666666, 'confidence': 0.6666666666666666, 'lift': 666666.6666666666}\n"
     ]
    }
   ],
   "source": [
    "print(metrics)"
   ]
  },
  {
   "cell_type": "code",
   "execution_count": null,
   "metadata": {},
   "outputs": [],
   "source": []
  }
 ],
 "metadata": {
  "kernelspec": {
   "display_name": "Python 3",
   "language": "python",
   "name": "python3"
  },
  "language_info": {
   "codemirror_mode": {
    "name": "ipython",
    "version": 3
   },
   "file_extension": ".py",
   "mimetype": "text/x-python",
   "name": "python",
   "nbconvert_exporter": "python",
   "pygments_lexer": "ipython3",
   "version": "3.7.1"
  }
 },
 "nbformat": 4,
 "nbformat_minor": 2
}
